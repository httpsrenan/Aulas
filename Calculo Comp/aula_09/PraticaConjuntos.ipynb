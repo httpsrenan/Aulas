{
  "nbformat": 4,
  "nbformat_minor": 0,
  "metadata": {
    "colab": {
      "provenance": [],
      "collapsed_sections": [
        "xw-0e1030Xzw",
        "u8K-8s7V1dF3",
        "nfOgTGSi2-b3",
        "Bkt1TcZb2bM1",
        "m1Hr8hOS3deX",
        "k3qNcaIV303t",
        "RmQv7eRZ3_u6",
        "dLjDia0w5MSv",
        "W3jLPlwT5eyw",
        "VaN4nOmV5n-r",
        "PHI4G4xe5pPF",
        "WvXRcFaq56ee",
        "KshOJScX6P1P"
      ]
    },
    "kernelspec": {
      "name": "python3",
      "display_name": "Python 3"
    },
    "language_info": {
      "name": "python"
    }
  },
  "cells": [
    {
      "cell_type": "markdown",
      "source": [
        "# Criando os sets base\n"
      ],
      "metadata": {
        "id": "xw-0e1030Xzw"
      }
    },
    {
      "cell_type": "code",
      "execution_count": 1,
      "metadata": {
        "id": "MlG8VPS1zPoz"
      },
      "outputs": [],
      "source": [
        "user_thor = {'mysql', 'cpu', 'ram', 'ssd1', 'google'}\n",
        "user_thanos = {'lol', 'ram', 'cpu', 'hd', 'google'}\n",
        "user_ca = {'mysql', 'lol', 'ram', 'cpu', 'firefox'}\n",
        "user_ts = {'mysql', 'cpu', 'ram', 'ssd1', 'google'}"
      ]
    },
    {
      "cell_type": "markdown",
      "source": [
        "# União\n"
      ],
      "metadata": {
        "id": "u8K-8s7V1dF3"
      }
    },
    {
      "cell_type": "markdown",
      "source": [
        "## Sintaxe Alternativa\n"
      ],
      "metadata": {
        "id": "nfOgTGSi2-b3"
      }
    },
    {
      "cell_type": "code",
      "source": [
        "inventario1 = user_thor | user_ca\n",
        "inventario1"
      ],
      "metadata": {
        "colab": {
          "base_uri": "https://localhost:8080/"
        },
        "id": "g8R-Ygyt1gko",
        "outputId": "b47c3b1d-c440-46fd-86cd-80c636486454"
      },
      "execution_count": 3,
      "outputs": [
        {
          "output_type": "stream",
          "name": "stdout",
          "text": [
            "{'cpu', 'google', 'lol', 'firefox', 'ssd1', 'ram', 'mysql'}\n"
          ]
        }
      ]
    },
    {
      "cell_type": "code",
      "source": [
        "inventario2 = user_thor | user_ca | user_thanos | user_ts\n",
        "inventario2"
      ],
      "metadata": {
        "colab": {
          "base_uri": "https://localhost:8080/"
        },
        "id": "0zViokbu2MuN",
        "outputId": "d700f0f3-fdbd-429f-a59d-8e1a973bcd46"
      },
      "execution_count": 4,
      "outputs": [
        {
          "output_type": "stream",
          "name": "stdout",
          "text": [
            "{'hd', 'cpu', 'google', 'lol', 'firefox', 'ssd1', 'ram', 'mysql'}\n"
          ]
        }
      ]
    },
    {
      "cell_type": "markdown",
      "source": [
        "## Sintaxe"
      ],
      "metadata": {
        "id": "-YcteNly2nsS"
      }
    },
    {
      "cell_type": "code",
      "source": [
        "inventario3 = user_thor.union(user_thanos, user_ca, user_ts)\n",
        "inventario3"
      ],
      "metadata": {
        "colab": {
          "base_uri": "https://localhost:8080/"
        },
        "id": "eYzx4xRU2mDS",
        "outputId": "47a0a671-07fe-4218-b8bb-5c29860baabc"
      },
      "execution_count": 5,
      "outputs": [
        {
          "output_type": "stream",
          "name": "stdout",
          "text": [
            "{'hd', 'cpu', 'google', 'lol', 'firefox', 'ssd1', 'ram', 'mysql'}\n"
          ]
        }
      ]
    },
    {
      "cell_type": "markdown",
      "source": [],
      "metadata": {
        "id": "VaAXVq5y2Z9b"
      }
    },
    {
      "cell_type": "markdown",
      "source": [
        "# Intersecção\n"
      ],
      "metadata": {
        "id": "Bkt1TcZb2bM1"
      }
    },
    {
      "cell_type": "markdown",
      "source": [
        "## Sintaxe Alternativa"
      ],
      "metadata": {
        "id": "m1Hr8hOS3deX"
      }
    },
    {
      "cell_type": "code",
      "source": [
        "inventario4 = user_thor & user_ca\n",
        "inventario4"
      ],
      "metadata": {
        "colab": {
          "base_uri": "https://localhost:8080/"
        },
        "id": "YQoOdVfr2fuo",
        "outputId": "5561155c-1706-4400-b694-d393779908f8"
      },
      "execution_count": 7,
      "outputs": [
        {
          "output_type": "execute_result",
          "data": {
            "text/plain": [
              "{'cpu', 'mysql', 'ram'}"
            ]
          },
          "metadata": {},
          "execution_count": 7
        }
      ]
    },
    {
      "cell_type": "markdown",
      "source": [
        "## Sintaxe"
      ],
      "metadata": {
        "id": "k3qNcaIV303t"
      }
    },
    {
      "cell_type": "code",
      "source": [
        "inventario5 = user_thor.intersection(user_thanos)\n",
        "inventario5"
      ],
      "metadata": {
        "colab": {
          "base_uri": "https://localhost:8080/"
        },
        "id": "gwnoDkFi3jNr",
        "outputId": "b903d01a-6759-4fe5-9263-b11f76fa21fd"
      },
      "execution_count": 6,
      "outputs": [
        {
          "output_type": "execute_result",
          "data": {
            "text/plain": [
              "{'cpu', 'google', 'ram'}"
            ]
          },
          "metadata": {},
          "execution_count": 6
        }
      ]
    },
    {
      "cell_type": "markdown",
      "source": [
        "# Pertinência"
      ],
      "metadata": {
        "id": "RmQv7eRZ3_u6"
      }
    },
    {
      "cell_type": "code",
      "source": [
        "'cpu' in user_ts"
      ],
      "metadata": {
        "colab": {
          "base_uri": "https://localhost:8080/"
        },
        "id": "GuO5mtSI4FBd",
        "outputId": "21245deb-5d5d-430b-ccab-5716c182ae04"
      },
      "execution_count": 8,
      "outputs": [
        {
          "output_type": "execute_result",
          "data": {
            "text/plain": [
              "True"
            ]
          },
          "metadata": {},
          "execution_count": 8
        }
      ]
    },
    {
      "cell_type": "code",
      "source": [
        "'firefox' in user_thanos"
      ],
      "metadata": {
        "colab": {
          "base_uri": "https://localhost:8080/"
        },
        "id": "zfOiUZQm4I6P",
        "outputId": "45c36624-2dcf-47b1-f932-78745763f7c0"
      },
      "execution_count": 9,
      "outputs": [
        {
          "output_type": "execute_result",
          "data": {
            "text/plain": [
              "False"
            ]
          },
          "metadata": {},
          "execution_count": 9
        }
      ]
    },
    {
      "cell_type": "code",
      "source": [
        "'lol' not in user_thor"
      ],
      "metadata": {
        "colab": {
          "base_uri": "https://localhost:8080/"
        },
        "id": "P24wW2Ff4M8I",
        "outputId": "57788b3f-73af-47a4-d4c9-ee202092e8fd"
      },
      "execution_count": 10,
      "outputs": [
        {
          "output_type": "execute_result",
          "data": {
            "text/plain": [
              "True"
            ]
          },
          "metadata": {},
          "execution_count": 10
        }
      ]
    },
    {
      "cell_type": "code",
      "source": [
        "'lol' not in user_thanos"
      ],
      "metadata": {
        "colab": {
          "base_uri": "https://localhost:8080/"
        },
        "id": "l_B2Uhyo4RJz",
        "outputId": "4c238fbb-df73-4215-ba77-8781e91e2480"
      },
      "execution_count": 11,
      "outputs": [
        {
          "output_type": "execute_result",
          "data": {
            "text/plain": [
              "False"
            ]
          },
          "metadata": {},
          "execution_count": 11
        }
      ]
    },
    {
      "cell_type": "markdown",
      "source": [
        "## Pertinência com subconjunros e superconjuntos"
      ],
      "metadata": {
        "id": "EfHiRqph4ZfP"
      }
    },
    {
      "cell_type": "markdown",
      "source": [
        "### Sintaxe"
      ],
      "metadata": {
        "id": "pGW4TPhT4jc8"
      }
    },
    {
      "cell_type": "code",
      "source": [
        "user_thor.issubset(user_thanos)"
      ],
      "metadata": {
        "colab": {
          "base_uri": "https://localhost:8080/"
        },
        "id": "LcAcvxMi4r60",
        "outputId": "391ca20e-712e-468e-914a-ce5b080e5d7a"
      },
      "execution_count": 12,
      "outputs": [
        {
          "output_type": "execute_result",
          "data": {
            "text/plain": [
              "False"
            ]
          },
          "metadata": {},
          "execution_count": 12
        }
      ]
    },
    {
      "cell_type": "code",
      "source": [
        "user_ts.issuperset(user_thor)"
      ],
      "metadata": {
        "colab": {
          "base_uri": "https://localhost:8080/"
        },
        "id": "AZO1-DNf41cO",
        "outputId": "2d6d8585-41a4-4163-ae70-4e2fa5bfa6f1"
      },
      "execution_count": 13,
      "outputs": [
        {
          "output_type": "execute_result",
          "data": {
            "text/plain": [
              "True"
            ]
          },
          "metadata": {},
          "execution_count": 13
        }
      ]
    },
    {
      "cell_type": "markdown",
      "source": [
        "### Sintaxe Alternativa"
      ],
      "metadata": {
        "id": "-9-HWjvs4mXW"
      }
    },
    {
      "cell_type": "code",
      "source": [
        "user_ts >= user_thor"
      ],
      "metadata": {
        "colab": {
          "base_uri": "https://localhost:8080/"
        },
        "id": "A7e3rhaW4758",
        "outputId": "02b8b35b-7d17-445f-bc66-ab753f51ae67"
      },
      "execution_count": 14,
      "outputs": [
        {
          "output_type": "execute_result",
          "data": {
            "text/plain": [
              "True"
            ]
          },
          "metadata": {},
          "execution_count": 14
        }
      ]
    },
    {
      "cell_type": "code",
      "source": [
        "user_thor <= user_thanos"
      ],
      "metadata": {
        "colab": {
          "base_uri": "https://localhost:8080/"
        },
        "id": "mRLsas535A6l",
        "outputId": "006e605f-fd35-4769-c642-29dcfbf6534b"
      },
      "execution_count": 15,
      "outputs": [
        {
          "output_type": "execute_result",
          "data": {
            "text/plain": [
              "False"
            ]
          },
          "metadata": {},
          "execution_count": 15
        }
      ]
    },
    {
      "cell_type": "markdown",
      "source": [
        "# Igualdade"
      ],
      "metadata": {
        "id": "dLjDia0w5MSv"
      }
    },
    {
      "cell_type": "code",
      "source": [
        "user_ts == user_thor"
      ],
      "metadata": {
        "colab": {
          "base_uri": "https://localhost:8080/"
        },
        "id": "ycfeqIp75O9X",
        "outputId": "e9ede01a-b737-47f9-8290-2e2aba028255"
      },
      "execution_count": 16,
      "outputs": [
        {
          "output_type": "execute_result",
          "data": {
            "text/plain": [
              "True"
            ]
          },
          "metadata": {},
          "execution_count": 16
        }
      ]
    },
    {
      "cell_type": "code",
      "source": [
        "user_ts != user_thor"
      ],
      "metadata": {
        "colab": {
          "base_uri": "https://localhost:8080/"
        },
        "id": "Wx0uH_ud5V21",
        "outputId": "81fbaeec-112e-4d37-f34d-7e10b701edc9"
      },
      "execution_count": 18,
      "outputs": [
        {
          "output_type": "execute_result",
          "data": {
            "text/plain": [
              "False"
            ]
          },
          "metadata": {},
          "execution_count": 18
        }
      ]
    },
    {
      "cell_type": "markdown",
      "source": [
        "# Diferença simétrica"
      ],
      "metadata": {
        "id": "W3jLPlwT5eyw"
      }
    },
    {
      "cell_type": "markdown",
      "source": [
        "## Sintaxe Alternativa"
      ],
      "metadata": {
        "id": "VaN4nOmV5n-r"
      }
    },
    {
      "cell_type": "code",
      "source": [
        "user_ts ^ user_ca"
      ],
      "metadata": {
        "colab": {
          "base_uri": "https://localhost:8080/"
        },
        "id": "FCDBTx055itT",
        "outputId": "43ef7eb8-8d67-474c-85f0-fdc362e4a853"
      },
      "execution_count": 19,
      "outputs": [
        {
          "output_type": "execute_result",
          "data": {
            "text/plain": [
              "{'firefox', 'google', 'lol', 'ssd1'}"
            ]
          },
          "metadata": {},
          "execution_count": 19
        }
      ]
    },
    {
      "cell_type": "markdown",
      "source": [
        "## Sintaxe"
      ],
      "metadata": {
        "id": "PHI4G4xe5pPF"
      }
    },
    {
      "cell_type": "code",
      "source": [
        "user_ts.symmetric_difference(user_ca)"
      ],
      "metadata": {
        "colab": {
          "base_uri": "https://localhost:8080/"
        },
        "id": "q1XeraGa5ua4",
        "outputId": "58049fbd-ef71-4fca-ca05-fe141a90cccc"
      },
      "execution_count": 20,
      "outputs": [
        {
          "output_type": "execute_result",
          "data": {
            "text/plain": [
              "{'firefox', 'google', 'lol', 'ssd1'}"
            ]
          },
          "metadata": {},
          "execution_count": 20
        }
      ]
    },
    {
      "cell_type": "markdown",
      "source": [
        "# Adicionando ou Removendo Elemento"
      ],
      "metadata": {
        "id": "WvXRcFaq56ee"
      }
    },
    {
      "cell_type": "code",
      "source": [
        "user_thor.add('edge')\n",
        "user_thor"
      ],
      "metadata": {
        "colab": {
          "base_uri": "https://localhost:8080/"
        },
        "id": "mTKKaYOv6B9m",
        "outputId": "065144a8-560b-499f-b424-2bbc0ce16d04"
      },
      "execution_count": 22,
      "outputs": [
        {
          "output_type": "execute_result",
          "data": {
            "text/plain": [
              "{'cpu', 'edge', 'google', 'mysql', 'ram', 'ssd1'}"
            ]
          },
          "metadata": {},
          "execution_count": 22
        }
      ]
    },
    {
      "cell_type": "code",
      "source": [
        "user_thor.remove('mysql')\n",
        "user_thor"
      ],
      "metadata": {
        "colab": {
          "base_uri": "https://localhost:8080/"
        },
        "id": "qR2Wr7nr6Itc",
        "outputId": "07271347-6e0b-49b9-fe7a-f8bf8d418e19"
      },
      "execution_count": 23,
      "outputs": [
        {
          "output_type": "execute_result",
          "data": {
            "text/plain": [
              "{'cpu', 'edge', 'google', 'ram', 'ssd1'}"
            ]
          },
          "metadata": {},
          "execution_count": 23
        }
      ]
    },
    {
      "cell_type": "markdown",
      "source": [
        "# Compreensões de Conjunto"
      ],
      "metadata": {
        "id": "KshOJScX6P1P"
      }
    },
    {
      "cell_type": "code",
      "source": [
        "num = [1, 2, 2, 3, 4, 5, 6, 6, 7, 8, 9, 10, 10]\n",
        "\n",
        "par = {item for item in num if item % 2 == 0}\n",
        "par"
      ],
      "metadata": {
        "colab": {
          "base_uri": "https://localhost:8080/"
        },
        "id": "MoG8wTF46UOT",
        "outputId": "917e61c4-e12e-41b1-8b12-6e469094f2e7"
      },
      "execution_count": 26,
      "outputs": [
        {
          "output_type": "execute_result",
          "data": {
            "text/plain": [
              "{2, 4, 6, 8, 10}"
            ]
          },
          "metadata": {},
          "execution_count": 26
        }
      ]
    },
    {
      "cell_type": "code",
      "source": [
        "type(par)"
      ],
      "metadata": {
        "colab": {
          "base_uri": "https://localhost:8080/"
        },
        "id": "suu0U0ko6sur",
        "outputId": "71ddfcb1-411e-4b76-912d-5af40808990d"
      },
      "execution_count": 27,
      "outputs": [
        {
          "output_type": "execute_result",
          "data": {
            "text/plain": [
              "set"
            ]
          },
          "metadata": {},
          "execution_count": 27
        }
      ]
    }
  ]
}